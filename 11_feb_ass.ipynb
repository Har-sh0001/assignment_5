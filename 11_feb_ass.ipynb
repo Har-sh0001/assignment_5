{
 "cells": [
  {
   "cell_type": "markdown",
   "id": "6e011368-5204-40e6-ad37-f843f80f465a",
   "metadata": {},
   "source": [
    "Question No .1:\n",
    "Which function is used to open a file? What are the different modes of opening a file? Explain each mode of file opening.\n",
    "\n",
    "Answer:\n",
    "In Python, we use the open() method to open files.\n",
    "\n",
    "The dfferent modes of opering a file are:\n",
    "\n",
    "r: Open a file for reading.\n",
    "w : Open a file for writing. Creates a new file if it does not exist or truncates the file if exists.\n",
    "x : Open a file for exclusive creation. If the file already exists, the operation fails.\n",
    "a : Open a file for appending at the end of the file without truncating it. Creates a new file if it does not exist.\n",
    "t : Open in text mode.\n",
    "b : Open in binary mode.\n",
    "+ : Open a file for updating (reading and writing)\n",
    "Question No. 2:\n",
    "Why close() function is used? Why is it important to close a file?\n",
    "\n",
    "Answer:When we are done with the opened file, we need to close it. If it is not closed the resources that are tied with the file are not freed.\n",
    "\n",
    "In Python, the close() method is used to close a file. When you're done reading from or writing to a file, you need to close it so that other programs can access it and so that your program frees up the memory it used for the file.\n",
    "\n"
   ]
  },
  {
   "cell_type": "code",
   "execution_count": 1,
   "id": "3e4a9b68-1b26-4972-914a-0a3d389c7895",
   "metadata": {},
   "outputs": [],
   "source": [
    "# Question No. 3:\n",
    "# Write a Python progrm to create a text file. Write 'I want to becomae a Data Scientist' in that file. Then close the file. Open this file and read the content of the file."
   ]
  },
  {
   "cell_type": "code",
   "execution_count": 2,
   "id": "d1ba26cb-13b9-4c27-be30-8ee3d9cf62cc",
   "metadata": {},
   "outputs": [],
   "source": [
    "# open the file in write mode (creates the file)\n",
    "with open('newfile.txt', 'w') as new_file:\n",
    "    #write contents in the file\n",
    "    new_file.write('I want to become a Data Scientist')\n",
    "\n",
    "#close the file\n",
    "new_file.close()"
   ]
  },
  {
   "cell_type": "code",
   "execution_count": 5,
   "id": "68315a3b-fcf6-4432-8ff6-5ad18c42727a",
   "metadata": {},
   "outputs": [
    {
     "name": "stdout",
     "output_type": "stream",
     "text": [
      "I want to become a Data Scientist\n"
     ]
    }
   ],
   "source": [
    "# open the file in read mode\n",
    "with open('newfile.txt', 'r') as new_file:\n",
    "    #read contents of the file\n",
    "    read_content = new_file.read()\n",
    "    #display contents of the file\n",
    "    print(read_content)\n",
    "    \n",
    "#close the file\n",
    "new_file.close()"
   ]
  },
  {
   "cell_type": "code",
   "execution_count": 6,
   "id": "088094a2-a632-4443-b2ca-89dcba5328d6",
   "metadata": {},
   "outputs": [],
   "source": [
    "# Question No. 4:\n",
    "# Explain the following with Python code: read(), readline() and readlines().\n",
    "\n",
    "# Answer:\n",
    "# To understand the functionality of read(), readline() and readlines() properly, let's first create a .txt file and write a few lines of text in it."
   ]
  },
  {
   "cell_type": "code",
   "execution_count": 7,
   "id": "30baab53-d0d9-4573-b0d8-3be8cc4ca339",
   "metadata": {},
   "outputs": [],
   "source": [
    "with open('example_file.txt', 'w') as file:\n",
    "    file.write('This is the first line in the file\\nThis is second line in the file\\nThis is last line in the file\\n')\n",
    "    \n",
    "file.close()\n",
    "##So we created .txt file and wrote 3 lines in it.\n",
    "##the read() method is used to read the entire contents of a file as a single string. For example:"
   ]
  },
  {
   "cell_type": "code",
   "execution_count": 8,
   "id": "0dde3f2a-8711-4b9d-a5a5-bc1836d2e3b6",
   "metadata": {},
   "outputs": [
    {
     "name": "stdout",
     "output_type": "stream",
     "text": [
      "This is the first line in the file\n",
      "This is second line in the file\n",
      "This is last line in the file\n",
      "\n"
     ]
    }
   ],
   "source": [
    "with open('example_file.txt','r') as file:\n",
    "    contents = file.read()\n",
    "    print(contents)\n",
    "\n",
    "file.close()"
   ]
  },
  {
   "cell_type": "code",
   "execution_count": 9,
   "id": "d17ff223-2089-4649-a5d3-b8e9b688720b",
   "metadata": {},
   "outputs": [
    {
     "name": "stdout",
     "output_type": "stream",
     "text": [
      "This is the first line in the file\n",
      "\n"
     ]
    }
   ],
   "source": [
    "##readline() method is used to read a single line form the file. For example:\n",
    "with open('example_file.txt', 'r') as file:\n",
    "    line = file.readline()\n",
    "    print(line)\n",
    "\n",
    "file.close()"
   ]
  },
  {
   "cell_type": "code",
   "execution_count": 10,
   "id": "1bc7782c-31c5-489a-810a-9456a0a5b471",
   "metadata": {},
   "outputs": [
    {
     "name": "stdout",
     "output_type": "stream",
     "text": [
      "['This is the first line in the file\\n', 'This is second line in the file\\n', 'This is last line in the file\\n']\n"
     ]
    }
   ],
   "source": [
    "##readlines() method is used to read all the lines of a file as a list of strings, where each stirng is a line of the file. For example:\n",
    "with open('example_file.txt', 'r') as file:\n",
    "    lines = file.readlines()\n",
    "    print(lines)\n",
    "    \n",
    "file.close()"
   ]
  },
  {
   "cell_type": "markdown",
   "id": "2b6d6f81-001a-44ee-ac36-93f9ff3f8f98",
   "metadata": {},
   "source": [
    "Question No. 5:\n",
    "Explain why with statement is used with open(). What is the advantage of using with statement and open() together?\n",
    "\n",
    "Answer:\n",
    "The with statement is used with the open() function in Python to ensure that the file is properly closed after it has been used.\n",
    "The advantage of using the with statement is that it automatically takes care of closing the file for you, even if an error occurs during the execution of the block of code.\n",
    "\n",
    "When you use the with statement, Python creates a context in which the file is open and makes it available within the indented block following the with statement. When the block of code is executed, the file is automatically closed, even if an exception is raised. This helps prevent resource leaks and reduces the risk of data corruption."
   ]
  },
  {
   "cell_type": "markdown",
   "id": "ac4aa44b-50f4-4f7a-b2f9-23438c74c2dc",
   "metadata": {},
   "source": [
    "Question No. 6:\n",
    "Explain the write() and writelines() functions. Give a suitable example.\n",
    "\n",
    "Answer:\n",
    "The write() and writelines() functions in Python are used to write text data to a file.\n",
    "\n",
    "The write() function is used to write a string to a file. It takes a single string argument and returns the number of characters written to the file. For example:"
   ]
  },
  {
   "cell_type": "code",
   "execution_count": 11,
   "id": "88632e0c-db5f-4f2d-8661-e708ff1166a1",
   "metadata": {},
   "outputs": [],
   "source": [
    "with open('example_file.txt', 'w') as file:\n",
    "    file.write('This is the line i wrote to the file using write function\\n')\n",
    "\n",
    "file.close()\n",
    "##The writelines() function is used to write a list of strings to a file. It takes a list of strings as an argument and writes each string to a separate line in the file. For example:"
   ]
  },
  {
   "cell_type": "code",
   "execution_count": 12,
   "id": "068b0ca4-267c-4ecd-ac68-1dbfbdcbd4c7",
   "metadata": {},
   "outputs": [],
   "source": [
    "lines = ['Line 1\\n','Line 2\\n', 'Line 3\\n']\n",
    "\n",
    "with open('example_file.txt', 'a') as file:\n",
    "    file.writelines(lines)\n",
    "    \n",
    "file.close()"
   ]
  },
  {
   "cell_type": "code",
   "execution_count": 13,
   "id": "c83c04fb-a6bc-46a1-9bb1-c48345a632fd",
   "metadata": {},
   "outputs": [
    {
     "name": "stdout",
     "output_type": "stream",
     "text": [
      "This is the line i wrote to the file using write function\n",
      "Line 1\n",
      "Line 2\n",
      "Line 3\n",
      "\n"
     ]
    }
   ],
   "source": [
    "##Now lets read the file contents for verification\n",
    "with open('example_file.txt', 'r') as file:\n",
    "    contents = file.read()\n",
    "    print(contents)\n",
    "file.close()"
   ]
  },
  {
   "cell_type": "code",
   "execution_count": null,
   "id": "a6c9a02c-9298-46e8-bd25-e5652c1a9189",
   "metadata": {},
   "outputs": [],
   "source": []
  }
 ],
 "metadata": {
  "kernelspec": {
   "display_name": "Python 3 (ipykernel)",
   "language": "python",
   "name": "python3"
  },
  "language_info": {
   "codemirror_mode": {
    "name": "ipython",
    "version": 3
   },
   "file_extension": ".py",
   "mimetype": "text/x-python",
   "name": "python",
   "nbconvert_exporter": "python",
   "pygments_lexer": "ipython3",
   "version": "3.10.8"
  }
 },
 "nbformat": 4,
 "nbformat_minor": 5
}
